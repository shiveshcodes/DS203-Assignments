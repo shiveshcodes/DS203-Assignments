{
 "cells": [
  {
   "cell_type": "code",
   "execution_count": 1,
   "id": "c1c6b847",
   "metadata": {},
   "outputs": [],
   "source": [
    "#Import statements for various libraries\n",
    "import pandas as pd #Pandas : To handle and manipulate dataset\n",
    "import numpy as np #Numpy : To operate on arrays, here pandas Series\n",
    "import matplotlib.pyplot as plt #Matplolib, Seaborn : To plot various graphs\n",
    "import seaborn as sns\n",
    "import statsmodels.api as sm\n",
    "import scipy.stats as stats\n",
    "from scipy.stats import chi2_contingency\n",
    "import math"
   ]
  },
  {
   "cell_type": "code",
   "execution_count": 2,
   "id": "5467b86f",
   "metadata": {},
   "outputs": [],
   "source": [
    "df = pd.read_csv(\"NDAP_REPORT_7004.csv\")"
   ]
  },
  {
   "cell_type": "code",
   "execution_count": 3,
   "id": "c0bfd0a6",
   "metadata": {},
   "outputs": [],
   "source": [
    "df.dropna(inplace=True) #Dropped all null values\n",
    "df.reset_index(drop=True, inplace=True) #Resetting our index after dropping null values, inplace modifies our original dataframe\n",
    "#While changing datatype of columns, it was identified that some columns had 'zero' as a value instead to numeric 0.\n",
    "# These values were present in columns whose numeric count was greater than 900 so that is utilized as a condition\n",
    "for col in df.columns.values: #Iterating over columns\n",
    "    if len(pd.unique(df[col]))>900: #Used an observation mentioned above\n",
    "        df[col]= df[col].replace('zero', '0').apply(pd.to_numeric).astype('int64') #.replace changes zero with 0, .apply(pd.to_numeric) changes each data to numeric value, .astype('int64') to change dtype\n",
    "        #In real life, Number of houses can't be floating so it has been converted to int\n",
    "df.drop(df[df['District lgd code'] > 10000].index, inplace=True)       "
   ]
  },
  {
   "cell_type": "code",
   "execution_count": 4,
   "id": "49f2a52d",
   "metadata": {},
   "outputs": [
    {
     "data": {
      "text/html": [
       "<div>\n",
       "<style scoped>\n",
       "    .dataframe tbody tr th:only-of-type {\n",
       "        vertical-align: middle;\n",
       "    }\n",
       "\n",
       "    .dataframe tbody tr th {\n",
       "        vertical-align: top;\n",
       "    }\n",
       "\n",
       "    .dataframe thead th {\n",
       "        text-align: right;\n",
       "    }\n",
       "</style>\n",
       "<table border=\"1\" class=\"dataframe\">\n",
       "  <thead>\n",
       "    <tr style=\"text-align: right;\">\n",
       "      <th></th>\n",
       "      <th>Rowid</th>\n",
       "      <th>Country</th>\n",
       "      <th>State lgd code</th>\n",
       "      <th>State</th>\n",
       "      <th>District lgd code</th>\n",
       "      <th>District</th>\n",
       "      <th>Year</th>\n",
       "      <th>Type of residence namely rural or urban</th>\n",
       "      <th>Number of census houses</th>\n",
       "      <th>Houses having grass or thatch or bamboo etc. as material of wall</th>\n",
       "      <th>Houses having plastic or polythene as material of wall</th>\n",
       "      <th>Houses having mud or unburnt brick as material of wall</th>\n",
       "      <th>Houses having wood as material of wall</th>\n",
       "      <th>Houses having stone not packed with mortar as material of wall</th>\n",
       "      <th>Houses having stone packed with mortar as material of wall</th>\n",
       "      <th>Houses having galvanized iron (gi) sheets or metal or asbestos sheets as material of wall</th>\n",
       "      <th>Houses having burnt brick as material of wall</th>\n",
       "      <th>Houses having concrete as material of wall</th>\n",
       "      <th>Houses having any other material of wall</th>\n",
       "    </tr>\n",
       "  </thead>\n",
       "  <tbody>\n",
       "    <tr>\n",
       "      <th>0</th>\n",
       "      <td>1</td>\n",
       "      <td>India</td>\n",
       "      <td>1</td>\n",
       "      <td>Jammu And Kashmir</td>\n",
       "      <td>1</td>\n",
       "      <td>Anantnag</td>\n",
       "      <td>2011</td>\n",
       "      <td>Rural</td>\n",
       "      <td>109465</td>\n",
       "      <td>270</td>\n",
       "      <td>1331</td>\n",
       "      <td>22710</td>\n",
       "      <td>3014</td>\n",
       "      <td>3034</td>\n",
       "      <td>480</td>\n",
       "      <td>229</td>\n",
       "      <td>76229</td>\n",
       "      <td>1400</td>\n",
       "      <td>768</td>\n",
       "    </tr>\n",
       "    <tr>\n",
       "      <th>1</th>\n",
       "      <td>2</td>\n",
       "      <td>India</td>\n",
       "      <td>1</td>\n",
       "      <td>Jammu And Kashmir</td>\n",
       "      <td>1</td>\n",
       "      <td>Anantnag</td>\n",
       "      <td>2011</td>\n",
       "      <td>Urban</td>\n",
       "      <td>33522</td>\n",
       "      <td>69</td>\n",
       "      <td>121</td>\n",
       "      <td>6807</td>\n",
       "      <td>123</td>\n",
       "      <td>268</td>\n",
       "      <td>93</td>\n",
       "      <td>98</td>\n",
       "      <td>23789</td>\n",
       "      <td>1894</td>\n",
       "      <td>260</td>\n",
       "    </tr>\n",
       "    <tr>\n",
       "      <th>2</th>\n",
       "      <td>3</td>\n",
       "      <td>India</td>\n",
       "      <td>1</td>\n",
       "      <td>Jammu And Kashmir</td>\n",
       "      <td>2</td>\n",
       "      <td>Budgam</td>\n",
       "      <td>2011</td>\n",
       "      <td>Rural</td>\n",
       "      <td>85561</td>\n",
       "      <td>134</td>\n",
       "      <td>168</td>\n",
       "      <td>7174</td>\n",
       "      <td>960</td>\n",
       "      <td>748</td>\n",
       "      <td>306</td>\n",
       "      <td>214</td>\n",
       "      <td>73342</td>\n",
       "      <td>1013</td>\n",
       "      <td>1498</td>\n",
       "    </tr>\n",
       "    <tr>\n",
       "      <th>3</th>\n",
       "      <td>4</td>\n",
       "      <td>India</td>\n",
       "      <td>1</td>\n",
       "      <td>Jammu And Kashmir</td>\n",
       "      <td>2</td>\n",
       "      <td>Budgam</td>\n",
       "      <td>2011</td>\n",
       "      <td>Urban</td>\n",
       "      <td>13136</td>\n",
       "      <td>49</td>\n",
       "      <td>27</td>\n",
       "      <td>935</td>\n",
       "      <td>24</td>\n",
       "      <td>187</td>\n",
       "      <td>30</td>\n",
       "      <td>39</td>\n",
       "      <td>11297</td>\n",
       "      <td>454</td>\n",
       "      <td>94</td>\n",
       "    </tr>\n",
       "    <tr>\n",
       "      <th>4</th>\n",
       "      <td>5</td>\n",
       "      <td>India</td>\n",
       "      <td>1</td>\n",
       "      <td>Jammu And Kashmir</td>\n",
       "      <td>3</td>\n",
       "      <td>Baramulla</td>\n",
       "      <td>2011</td>\n",
       "      <td>Rural</td>\n",
       "      <td>120312</td>\n",
       "      <td>410</td>\n",
       "      <td>173</td>\n",
       "      <td>19207</td>\n",
       "      <td>3227</td>\n",
       "      <td>12552</td>\n",
       "      <td>5479</td>\n",
       "      <td>1740</td>\n",
       "      <td>72686</td>\n",
       "      <td>2118</td>\n",
       "      <td>2715</td>\n",
       "    </tr>\n",
       "    <tr>\n",
       "      <th>...</th>\n",
       "      <td>...</td>\n",
       "      <td>...</td>\n",
       "      <td>...</td>\n",
       "      <td>...</td>\n",
       "      <td>...</td>\n",
       "      <td>...</td>\n",
       "      <td>...</td>\n",
       "      <td>...</td>\n",
       "      <td>...</td>\n",
       "      <td>...</td>\n",
       "      <td>...</td>\n",
       "      <td>...</td>\n",
       "      <td>...</td>\n",
       "      <td>...</td>\n",
       "      <td>...</td>\n",
       "      <td>...</td>\n",
       "      <td>...</td>\n",
       "      <td>...</td>\n",
       "      <td>...</td>\n",
       "    </tr>\n",
       "    <tr>\n",
       "      <th>1463</th>\n",
       "      <td>1469</td>\n",
       "      <td>India</td>\n",
       "      <td>38</td>\n",
       "      <td>The Dadra And Nagar Haveli And Daman And Diu</td>\n",
       "      <td>463</td>\n",
       "      <td>Daman</td>\n",
       "      <td>2011</td>\n",
       "      <td>Urban</td>\n",
       "      <td>42352</td>\n",
       "      <td>202</td>\n",
       "      <td>150</td>\n",
       "      <td>426</td>\n",
       "      <td>95</td>\n",
       "      <td>72</td>\n",
       "      <td>185</td>\n",
       "      <td>130</td>\n",
       "      <td>39160</td>\n",
       "      <td>1927</td>\n",
       "      <td>5</td>\n",
       "    </tr>\n",
       "    <tr>\n",
       "      <th>1464</th>\n",
       "      <td>1470</td>\n",
       "      <td>India</td>\n",
       "      <td>38</td>\n",
       "      <td>The Dadra And Nagar Haveli And Daman And Diu</td>\n",
       "      <td>464</td>\n",
       "      <td>Diu</td>\n",
       "      <td>2011</td>\n",
       "      <td>Rural</td>\n",
       "      <td>5410</td>\n",
       "      <td>6</td>\n",
       "      <td>0</td>\n",
       "      <td>50</td>\n",
       "      <td>2</td>\n",
       "      <td>238</td>\n",
       "      <td>5094</td>\n",
       "      <td>0</td>\n",
       "      <td>2</td>\n",
       "      <td>5</td>\n",
       "      <td>13</td>\n",
       "    </tr>\n",
       "    <tr>\n",
       "      <th>1465</th>\n",
       "      <td>1471</td>\n",
       "      <td>India</td>\n",
       "      <td>38</td>\n",
       "      <td>The Dadra And Nagar Haveli And Daman And Diu</td>\n",
       "      <td>464</td>\n",
       "      <td>Diu</td>\n",
       "      <td>2011</td>\n",
       "      <td>Urban</td>\n",
       "      <td>5279</td>\n",
       "      <td>11</td>\n",
       "      <td>1</td>\n",
       "      <td>6</td>\n",
       "      <td>0</td>\n",
       "      <td>165</td>\n",
       "      <td>4820</td>\n",
       "      <td>11</td>\n",
       "      <td>147</td>\n",
       "      <td>116</td>\n",
       "      <td>2</td>\n",
       "    </tr>\n",
       "    <tr>\n",
       "      <th>1466</th>\n",
       "      <td>1472</td>\n",
       "      <td>India</td>\n",
       "      <td>38</td>\n",
       "      <td>The Dadra And Nagar Haveli And Daman And Diu</td>\n",
       "      <td>465</td>\n",
       "      <td>Dadra And Nagar Haveli</td>\n",
       "      <td>2011</td>\n",
       "      <td>Rural</td>\n",
       "      <td>35408</td>\n",
       "      <td>16428</td>\n",
       "      <td>62</td>\n",
       "      <td>4939</td>\n",
       "      <td>145</td>\n",
       "      <td>113</td>\n",
       "      <td>74</td>\n",
       "      <td>96</td>\n",
       "      <td>12642</td>\n",
       "      <td>897</td>\n",
       "      <td>12</td>\n",
       "    </tr>\n",
       "    <tr>\n",
       "      <th>1467</th>\n",
       "      <td>1473</td>\n",
       "      <td>India</td>\n",
       "      <td>38</td>\n",
       "      <td>The Dadra And Nagar Haveli And Daman And Diu</td>\n",
       "      <td>465</td>\n",
       "      <td>Dadra And Nagar Haveli</td>\n",
       "      <td>2011</td>\n",
       "      <td>Urban</td>\n",
       "      <td>37655</td>\n",
       "      <td>2156</td>\n",
       "      <td>140</td>\n",
       "      <td>1667</td>\n",
       "      <td>142</td>\n",
       "      <td>136</td>\n",
       "      <td>157</td>\n",
       "      <td>281</td>\n",
       "      <td>31404</td>\n",
       "      <td>1549</td>\n",
       "      <td>23</td>\n",
       "    </tr>\n",
       "  </tbody>\n",
       "</table>\n",
       "<p>1467 rows × 19 columns</p>\n",
       "</div>"
      ],
      "text/plain": [
       "      Rowid Country  State lgd code  \\\n",
       "0         1   India               1   \n",
       "1         2   India               1   \n",
       "2         3   India               1   \n",
       "3         4   India               1   \n",
       "4         5   India               1   \n",
       "...     ...     ...             ...   \n",
       "1463   1469   India              38   \n",
       "1464   1470   India              38   \n",
       "1465   1471   India              38   \n",
       "1466   1472   India              38   \n",
       "1467   1473   India              38   \n",
       "\n",
       "                                             State  District lgd code  \\\n",
       "0                                Jammu And Kashmir                  1   \n",
       "1                                Jammu And Kashmir                  1   \n",
       "2                                Jammu And Kashmir                  2   \n",
       "3                                Jammu And Kashmir                  2   \n",
       "4                                Jammu And Kashmir                  3   \n",
       "...                                            ...                ...   \n",
       "1463  The Dadra And Nagar Haveli And Daman And Diu                463   \n",
       "1464  The Dadra And Nagar Haveli And Daman And Diu                464   \n",
       "1465  The Dadra And Nagar Haveli And Daman And Diu                464   \n",
       "1466  The Dadra And Nagar Haveli And Daman And Diu                465   \n",
       "1467  The Dadra And Nagar Haveli And Daman And Diu                465   \n",
       "\n",
       "                    District  Year Type of residence namely rural or urban  \\\n",
       "0                   Anantnag  2011                                   Rural   \n",
       "1                   Anantnag  2011                                   Urban   \n",
       "2                     Budgam  2011                                   Rural   \n",
       "3                     Budgam  2011                                   Urban   \n",
       "4                  Baramulla  2011                                   Rural   \n",
       "...                      ...   ...                                     ...   \n",
       "1463                   Daman  2011                                   Urban   \n",
       "1464                     Diu  2011                                   Rural   \n",
       "1465                     Diu  2011                                   Urban   \n",
       "1466  Dadra And Nagar Haveli  2011                                   Rural   \n",
       "1467  Dadra And Nagar Haveli  2011                                   Urban   \n",
       "\n",
       "      Number of census houses  \\\n",
       "0                      109465   \n",
       "1                       33522   \n",
       "2                       85561   \n",
       "3                       13136   \n",
       "4                      120312   \n",
       "...                       ...   \n",
       "1463                    42352   \n",
       "1464                     5410   \n",
       "1465                     5279   \n",
       "1466                    35408   \n",
       "1467                    37655   \n",
       "\n",
       "      Houses having grass or thatch or bamboo etc. as material of wall  \\\n",
       "0                                                   270                  \n",
       "1                                                    69                  \n",
       "2                                                   134                  \n",
       "3                                                    49                  \n",
       "4                                                   410                  \n",
       "...                                                 ...                  \n",
       "1463                                                202                  \n",
       "1464                                                  6                  \n",
       "1465                                                 11                  \n",
       "1466                                              16428                  \n",
       "1467                                               2156                  \n",
       "\n",
       "      Houses having plastic or polythene as material of wall  \\\n",
       "0                                                  1331        \n",
       "1                                                   121        \n",
       "2                                                   168        \n",
       "3                                                    27        \n",
       "4                                                   173        \n",
       "...                                                 ...        \n",
       "1463                                                150        \n",
       "1464                                                  0        \n",
       "1465                                                  1        \n",
       "1466                                                 62        \n",
       "1467                                                140        \n",
       "\n",
       "      Houses having mud or unburnt brick as material of wall  \\\n",
       "0                                                 22710        \n",
       "1                                                  6807        \n",
       "2                                                  7174        \n",
       "3                                                   935        \n",
       "4                                                 19207        \n",
       "...                                                 ...        \n",
       "1463                                                426        \n",
       "1464                                                 50        \n",
       "1465                                                  6        \n",
       "1466                                               4939        \n",
       "1467                                               1667        \n",
       "\n",
       "      Houses having wood as material of wall  \\\n",
       "0                                       3014   \n",
       "1                                        123   \n",
       "2                                        960   \n",
       "3                                         24   \n",
       "4                                       3227   \n",
       "...                                      ...   \n",
       "1463                                      95   \n",
       "1464                                       2   \n",
       "1465                                       0   \n",
       "1466                                     145   \n",
       "1467                                     142   \n",
       "\n",
       "      Houses having stone not packed with mortar as material of wall  \\\n",
       "0                                                  3034                \n",
       "1                                                   268                \n",
       "2                                                   748                \n",
       "3                                                   187                \n",
       "4                                                 12552                \n",
       "...                                                 ...                \n",
       "1463                                                 72                \n",
       "1464                                                238                \n",
       "1465                                                165                \n",
       "1466                                                113                \n",
       "1467                                                136                \n",
       "\n",
       "      Houses having stone packed with mortar as material of wall  \\\n",
       "0                                                   480            \n",
       "1                                                    93            \n",
       "2                                                   306            \n",
       "3                                                    30            \n",
       "4                                                  5479            \n",
       "...                                                 ...            \n",
       "1463                                                185            \n",
       "1464                                               5094            \n",
       "1465                                               4820            \n",
       "1466                                                 74            \n",
       "1467                                                157            \n",
       "\n",
       "      Houses having galvanized iron (gi) sheets or metal or asbestos sheets as material of wall  \\\n",
       "0                                                   229                                           \n",
       "1                                                    98                                           \n",
       "2                                                   214                                           \n",
       "3                                                    39                                           \n",
       "4                                                  1740                                           \n",
       "...                                                 ...                                           \n",
       "1463                                                130                                           \n",
       "1464                                                  0                                           \n",
       "1465                                                 11                                           \n",
       "1466                                                 96                                           \n",
       "1467                                                281                                           \n",
       "\n",
       "      Houses having burnt brick as material of wall  \\\n",
       "0                                             76229   \n",
       "1                                             23789   \n",
       "2                                             73342   \n",
       "3                                             11297   \n",
       "4                                             72686   \n",
       "...                                             ...   \n",
       "1463                                          39160   \n",
       "1464                                              2   \n",
       "1465                                            147   \n",
       "1466                                          12642   \n",
       "1467                                          31404   \n",
       "\n",
       "      Houses having concrete as material of wall  \\\n",
       "0                                           1400   \n",
       "1                                           1894   \n",
       "2                                           1013   \n",
       "3                                            454   \n",
       "4                                           2118   \n",
       "...                                          ...   \n",
       "1463                                        1927   \n",
       "1464                                           5   \n",
       "1465                                         116   \n",
       "1466                                         897   \n",
       "1467                                        1549   \n",
       "\n",
       "      Houses having any other material of wall  \n",
       "0                                          768  \n",
       "1                                          260  \n",
       "2                                         1498  \n",
       "3                                           94  \n",
       "4                                         2715  \n",
       "...                                        ...  \n",
       "1463                                         5  \n",
       "1464                                        13  \n",
       "1465                                         2  \n",
       "1466                                        12  \n",
       "1467                                        23  \n",
       "\n",
       "[1467 rows x 19 columns]"
      ]
     },
     "execution_count": 4,
     "metadata": {},
     "output_type": "execute_result"
    }
   ],
   "source": [
    "df"
   ]
  },
  {
   "cell_type": "code",
   "execution_count": 5,
   "id": "d116a17c",
   "metadata": {},
   "outputs": [],
   "source": [
    "data = df['Houses having mud or unburnt brick as material of wall']/df['Number of census houses']*100 \n",
    "#Calculated percentage row"
   ]
  },
  {
   "cell_type": "code",
   "execution_count": 6,
   "id": "af759323",
   "metadata": {},
   "outputs": [],
   "source": [
    "data = data.dropna() #dropped null values"
   ]
  },
  {
   "cell_type": "code",
   "execution_count": 7,
   "id": "796ad9f3",
   "metadata": {},
   "outputs": [
    {
     "data": {
      "image/png": "[encoded data removed]",
      "text/plain": [
       "<Figure size 432x288 with 1 Axes>"
      ]
     },
     "metadata": {
      "needs_background": "light"
     },
     "output_type": "display_data"
    },
    {
     "data": {
      "image/png": "[encoded data removed]",
      "text/plain": [
       "<Figure size 432x288 with 1 Axes>"
      ]
     },
     "metadata": {
      "needs_background": "light"
     },
     "output_type": "display_data"
    }
   ],
   "source": [
    "sm.qqplot(data, stats.norm, fit=True, line='s') #qqplot for normal dist\n",
    "sm.qqplot(data, stats.uniform, fit=True, line='s') #qqplot for uniform dist\n",
    "plt.show() #displayed"
   ]
  },
  {
   "cell_type": "code",
   "execution_count": 8,
   "id": "3a897eb3",
   "metadata": {},
   "outputs": [
    {
     "name": "stdout",
     "output_type": "stream",
     "text": [
      "MLE Estimates for Gaussian:\n",
      "Mean : 20.96393145968795\n",
      "Deviation : 20.989697704775054\n"
     ]
    }
   ],
   "source": [
    "mean = data.mean() #Mean is an MLE\n",
    "n = len(data)\n",
    "std = data.std()*math.sqrt(n-1)/(math.sqrt(n)) #Unnormalized std for MLE\n",
    "print(\"MLE Estimates for Gaussian:\\nMean : \"+ str(mean) + \"\\nDeviation : \" +str(std))"
   ]
  },
  {
   "cell_type": "code",
   "execution_count": 9,
   "id": "80cdc3b3",
   "metadata": {},
   "outputs": [
    {
     "name": "stdout",
     "output_type": "stream",
     "text": [
      "MLE Estimates for Uniform:\n",
      "a : 0.0\n",
      "b : 96.46096709592217\n"
     ]
    }
   ],
   "source": [
    "a = data.min() #min is mle of uniform\n",
    "b = data.max() # man is also mle for uniform\n",
    "print(\"MLE Estimates for Uniform:\\na : \"+ str(a) + \"\\nb : \" +str(b))"
   ]
  },
  {
   "cell_type": "code",
   "execution_count": 10,
   "id": "ca2f21e0",
   "metadata": {},
   "outputs": [
    {
     "name": "stdout",
     "output_type": "stream",
     "text": [
      "-6431.288270898063\n"
     ]
    }
   ],
   "source": [
    "normlog = (((1437*(math.log(2*math.pi*std*std)))/2)+ (1473/2))*(-1) #Max log likelihood of normal\n",
    "print(normlog)"
   ]
  },
  {
   "cell_type": "code",
   "execution_count": 11,
   "id": "c6a63483",
   "metadata": {},
   "outputs": [
    {
     "name": "stdout",
     "output_type": "stream",
     "text": [
      "-6565.851938949313\n"
     ]
    }
   ],
   "source": [
    "uniflog = n*math.log(1/(b-a)) #Max log likelihood of uniform\n",
    "print(uniflog)"
   ]
  },
  {
   "cell_type": "markdown",
   "id": "726832e7",
   "metadata": {},
   "source": [
    "Since Log Likelihood of Gaussian is greater than Log Likelihood of Uniform Distribution, Gaussian is a better fit for the data "
   ]
  },
  {
   "cell_type": "code",
   "execution_count": 12,
   "id": "3bcd64d5",
   "metadata": {},
   "outputs": [],
   "source": [
    "def customquartile(i):\n",
    "    if(i<0.5 and i>=0): quartile = math.sqrt(2*i)-1 #calculated mathematically\n",
    "    elif(i>=0.5 and i<=1): quartile = 1-math.sqrt(2-2*i) #calculated mathematically\n",
    "    else: quartile = float(\"NaN\") #NaN for illegal values\n",
    "    return quartile\n",
    "        "
   ]
  },
  {
   "cell_type": "code",
   "execution_count": 13,
   "id": "d24202b9",
   "metadata": {},
   "outputs": [],
   "source": [
    "data = data.sort_values() #sorted data\n",
    "data = data.reset_index(drop=True) #resetted index"
   ]
  },
  {
   "cell_type": "code",
   "execution_count": 14,
   "id": "25bd1965",
   "metadata": {},
   "outputs": [],
   "source": [
    "xvalues = []\n",
    "yvalues = []\n",
    "end = len(data)-1\n",
    "for i in range(0,end+1):\n",
    "    yvalues.append(data[i])  #data[i] as yvalues\n",
    "    xvalues.append(customquartile((i/end))) #custom quartile values as x values"
   ]
  },
  {
   "cell_type": "code",
   "execution_count": 15,
   "id": "46041ef8",
   "metadata": {},
   "outputs": [
    {
     "data": {
      "image/png": "[encoded data removed]",
      "text/plain": [
       "<Figure size 432x288 with 1 Axes>"
      ]
     },
     "metadata": {
      "needs_background": "light"
     },
     "output_type": "display_data"
    }
   ],
   "source": [
    "plt.scatter(xvalues, yvalues) #plotting qqplot\n",
    "plt.show() #Displaying plot"
   ]
  },
  {
   "cell_type": "code",
   "execution_count": 16,
   "id": "d510d48a",
   "metadata": {},
   "outputs": [],
   "source": [
    "ruraldf = df[df['Type of residence namely rural or urban'] == \"Rural\"] #Creating new dataframe with rows having Rural value\n",
    "urbandf = df[df['Type of residence namely rural or urban'] == \"Urban\"] #Creating new dataframe with rows having Urban value"
   ]
  },
  {
   "cell_type": "markdown",
   "id": "f01290b0",
   "metadata": {},
   "source": [
    "Lets say our significance value is 0.05\n",
    "\n",
    "We perform 2 tail test to see if rural and urban data are statistically equal"
   ]
  },
  {
   "cell_type": "code",
   "execution_count": 17,
   "id": "dfb14efb",
   "metadata": {},
   "outputs": [
    {
     "data": {
      "text/plain": [
       "Ttest_indResult(statistic=19.7721777330968, pvalue=2.5657911381717052e-77)"
      ]
     },
     "execution_count": 17,
     "metadata": {},
     "output_type": "execute_result"
    }
   ],
   "source": [
    "rural = ruraldf['Houses having mud or unburnt brick as material of wall'].dropna()\n",
    "urban = urbandf['Houses having mud or unburnt brick as material of wall'].dropna()\n",
    "stats.ttest_ind(a=rural, b=urban, equal_var=True)"
   ]
  },
  {
   "cell_type": "markdown",
   "id": "1fde11ce",
   "metadata": {},
   "source": [
    "Since our p value is drastically less than significance value, rural and urban data are not equal"
   ]
  },
  {
   "cell_type": "code",
   "execution_count": 18,
   "id": "83edc759",
   "metadata": {},
   "outputs": [
    {
     "name": "stdout",
     "output_type": "stream",
     "text": [
      "Rural Percent of Mud Houses : 20.834716865521624\n",
      "\n",
      "Urban Percent of Mud Houses : 2.9723178844895926\n"
     ]
    }
   ],
   "source": [
    "ruralsum = ruraldf['Houses having mud or unburnt brick as material of wall'].sum() #Sum of rural houses\n",
    "urbansum = urbandf['Houses having mud or unburnt brick as material of wall'].sum() #Sum of urban houses\n",
    "totalsum = df['Number of census houses'].sum() #Total number of houses\n",
    "ruralpercent = ruralsum/totalsum*100 #rural houses percentage\n",
    "urbanpercent = urbansum/totalsum*100 #urban houses percentage\n",
    "print(\"Rural Percent of Mud Houses : \" + str(ruralpercent))\n",
    "print(\"\\nUrban Percent of Mud Houses : \" + str(urbanpercent))"
   ]
  },
  {
   "cell_type": "markdown",
   "id": "96c3df3c",
   "metadata": {},
   "source": [
    "Percentage of rural houses is greater than percentage of urban houses"
   ]
  },
  {
   "cell_type": "code",
   "execution_count": 19,
   "id": "5b16ac77",
   "metadata": {},
   "outputs": [
    {
     "data": {
      "text/plain": [
       "736"
      ]
     },
     "execution_count": 19,
     "metadata": {},
     "output_type": "execute_result"
    }
   ],
   "source": [
    "len(rural)"
   ]
  },
  {
   "cell_type": "code",
   "execution_count": 20,
   "id": "60851bcd",
   "metadata": {},
   "outputs": [
    {
     "data": {
      "text/plain": [
       "731"
      ]
     },
     "execution_count": 20,
     "metadata": {},
     "output_type": "execute_result"
    }
   ],
   "source": [
    "len(urban)"
   ]
  },
  {
   "cell_type": "code",
   "execution_count": 21,
   "id": "18f5d2e0",
   "metadata": {},
   "outputs": [],
   "source": [
    "rural.drop(rural.tail(5).index, inplace = True) #Just dropping excess data"
   ]
  },
  {
   "cell_type": "markdown",
   "id": "78495567",
   "metadata": {},
   "source": [
    "Lets have the significance value of corr to be 0.5"
   ]
  },
  {
   "cell_type": "code",
   "execution_count": 30,
   "id": "decc72eb",
   "metadata": {},
   "outputs": [
    {
     "name": "stdout",
     "output_type": "stream",
     "text": [
      "Pearsons correlation: 0.22040297960975722\n"
     ]
    }
   ],
   "source": [
    "corr, _ = stats.pearsonr(rural, urban) #Calculating correlation coefficient\n",
    "print('Pearsons correlation: ' + str(corr)) "
   ]
  },
  {
   "cell_type": "markdown",
   "id": "dbde9256",
   "metadata": {},
   "source": [
    "Since Pearson Correlation is less than significance value we can not sufficiently say that the rural and urban data are correlated"
   ]
  },
  {
   "cell_type": "code",
   "execution_count": null,
   "id": "6cf50e0a",
   "metadata": {},
   "outputs": [],
   "source": []
  }
 ],
 "metadata": {
  "kernelspec": {
   "display_name": "Python 3 (ipykernel)",
   "language": "python",
   "name": "python3"
  },
  "language_info": {
   "codemirror_mode": {
    "name": "ipython",
    "version": 3
   },
   "file_extension": ".py",
   "mimetype": "text/x-python",
   "name": "python",
   "nbconvert_exporter": "python",
   "pygments_lexer": "ipython3",
   "version": "3.9.12"
  }
 },
 "nbformat": 4,
 "nbformat_minor": 5
}
