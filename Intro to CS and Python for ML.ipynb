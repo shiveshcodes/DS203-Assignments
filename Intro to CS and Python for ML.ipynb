{
 "cells": [
  {
   "cell_type": "markdown",
   "metadata": {
    "id": "i2P9LDBRzd9D"
   },
   "source": [
    "# **Introduction to CS and Python concepts for ML**\n",
    "For course EE769 Introduction to Machine Learning @IITB by Amit Sethi\n",
    "\n",
    "Note: The best way to learn is to type the code while watching this video in parts\n",
    "- Constants, variables, naming\n",
    "- Conditions\n",
    "- Functions\n",
    "- Numpy arrays and linear algebra\n",
    "- While loop\n",
    "- For loop\n",
    "- Vectorization\n",
    "- Big-O for time complexity (linear search in O(n), binary search in O(log n))\n"
   ]
  },
  {
   "cell_type": "markdown",
   "metadata": {
    "id": "KtQ-hVlP1Sq6"
   },
   "source": [
    "# Constants, variables, and naming"
   ]
  },
  {
   "cell_type": "code",
   "execution_count": null,
   "metadata": {
    "colab": {
     "base_uri": "https://localhost:8080/"
    },
    "executionInfo": {
     "elapsed": 5,
     "status": "ok",
     "timestamp": 1660050522544,
     "user": {
      "displayName": "Amit Sethi",
      "userId": "13009250827880785755"
     },
     "user_tz": -330
    },
    "id": "gYGwQa1DzcGc",
    "outputId": "59a11f57-8e57-4941-dc45-cdaa386ac93d"
   },
   "outputs": [
    {
     "name": "stdout",
     "output_type": "stream",
     "text": [
      "Area of the circle is 50.2656\n"
     ]
    }
   ],
   "source": [
    "# Bad example of hard-coding\n",
    "\n",
    "print('Area of the circle is ' + str(3.1416 * 4 * 4)) \n",
    "# + sign concatenates strings in the line above"
   ]
  },
  {
   "cell_type": "code",
   "execution_count": null,
   "metadata": {
    "colab": {
     "base_uri": "https://localhost:8080/"
    },
    "executionInfo": {
     "elapsed": 2282,
     "status": "ok",
     "timestamp": 1610970285362,
     "user": {
      "displayName": "Amit Sethi",
      "photoUrl": "https://lh3.googleusercontent.com/a-/AOh14GhcYf2yeB1Khss7ZPO45INghd8j5991p1jnWgs8pQ=s64",
      "userId": "13009250827880785755"
     },
     "user_tz": -330
    },
    "id": "C2lsO2LB2liD",
    "outputId": "9c945d64-4e4c-41b4-beef-dee2de8c260e"
   },
   "outputs": [
    {
     "name": "stdout",
     "output_type": "stream",
     "text": [
      "Area of the circle is 50.2656\n"
     ]
    }
   ],
   "source": [
    "# Better example of using variables\n",
    "\n",
    "a = 3.1416\n",
    "b = 4\n",
    "\n",
    "print('Area of the circle is ' + str(a * b * b))"
   ]
  },
  {
   "cell_type": "code",
   "execution_count": null,
   "metadata": {
    "colab": {
     "base_uri": "https://localhost:8080/"
    },
    "executionInfo": {
     "elapsed": 2274,
     "status": "ok",
     "timestamp": 1610970285363,
     "user": {
      "displayName": "Amit Sethi",
      "photoUrl": "https://lh3.googleusercontent.com/a-/AOh14GhcYf2yeB1Khss7ZPO45INghd8j5991p1jnWgs8pQ=s64",
      "userId": "13009250827880785755"
     },
     "user_tz": -330
    },
    "id": "BxETf4iL2y6D",
    "outputId": "b181eb16-d53d-458f-f8f9-99891321b1f1"
   },
   "outputs": [
    {
     "name": "stdout",
     "output_type": "stream",
     "text": [
      "Area of the circle is 50.2656\n"
     ]
    }
   ],
   "source": [
    "# Even better example with self-explanatory variable names\n",
    "# Note, python does not have constants, but by convention, we can use CAPS\n",
    "\n",
    "PI = 3.1416\n",
    "\n",
    "radius = 4.0 # adding a decimal ensures that the number is float (decimal)\n",
    "area = PI * radius * radius\n",
    "\n",
    "print('Area of the circle is ' + str(area))"
   ]
  },
  {
   "cell_type": "markdown",
   "metadata": {
    "id": "bIrm1_7Q34sL"
   },
   "source": [
    "# Conditions"
   ]
  },
  {
   "cell_type": "code",
   "execution_count": null,
   "metadata": {
    "colab": {
     "base_uri": "https://localhost:8080/",
     "height": 255
    },
    "executionInfo": {
     "elapsed": 6160,
     "status": "error",
     "timestamp": 1660050828051,
     "user": {
      "displayName": "Amit Sethi",
      "userId": "13009250827880785755"
     },
     "user_tz": -330
    },
    "id": "hPsYNk9p770G",
    "outputId": "9e339c97-617b-4eb7-b646-ac0b946a03e8"
   },
   "outputs": [
    {
     "name": "stdout",
     "output_type": "stream",
     "text": [
      "Enter a whole number to check if it is divisble by 7 : qw\n"
     ]
    },
    {
     "ename": "ValueError",
     "evalue": "ignored",
     "output_type": "error",
     "traceback": [
      "\u001b[0;31m---------------------------------------------------------------------------\u001b[0m",
      "\u001b[0;31mValueError\u001b[0m                                Traceback (most recent call last)",
      "\u001b[0;32m<ipython-input-4-b7aed0cca734>\u001b[0m in \u001b[0;36m<module>\u001b[0;34m()\u001b[0m\n\u001b[1;32m      3\u001b[0m \u001b[0;31m# Cons - hard to understand after a week, inflexible, error-prone\u001b[0m\u001b[0;34m\u001b[0m\u001b[0;34m\u001b[0m\u001b[0;34m\u001b[0m\u001b[0m\n\u001b[1;32m      4\u001b[0m \u001b[0;34m\u001b[0m\u001b[0m\n\u001b[0;32m----> 5\u001b[0;31m \u001b[0mx\u001b[0m \u001b[0;34m=\u001b[0m \u001b[0mfloat\u001b[0m\u001b[0;34m(\u001b[0m\u001b[0minput\u001b[0m\u001b[0;34m(\u001b[0m\u001b[0;34m'Enter a whole number to check if it is divisble by '\u001b[0m\u001b[0;34m+\u001b[0m \u001b[0mstr\u001b[0m\u001b[0;34m(\u001b[0m\u001b[0;36m7\u001b[0m\u001b[0;34m)\u001b[0m \u001b[0;34m+\u001b[0m\u001b[0;34m' : '\u001b[0m\u001b[0;34m)\u001b[0m\u001b[0;34m)\u001b[0m\u001b[0;34m\u001b[0m\u001b[0;34m\u001b[0m\u001b[0m\n\u001b[0m\u001b[1;32m      6\u001b[0m \u001b[0;32mif\u001b[0m \u001b[0mround\u001b[0m\u001b[0;34m(\u001b[0m\u001b[0mx\u001b[0m\u001b[0;34m/\u001b[0m\u001b[0;36m7\u001b[0m\u001b[0;34m,\u001b[0m\u001b[0;36m0\u001b[0m\u001b[0;34m)\u001b[0m \u001b[0;34m==\u001b[0m \u001b[0mx\u001b[0m\u001b[0;34m/\u001b[0m\u001b[0;36m7\u001b[0m\u001b[0;34m:\u001b[0m\u001b[0;34m\u001b[0m\u001b[0;34m\u001b[0m\u001b[0m\n\u001b[1;32m      7\u001b[0m   \u001b[0mprint\u001b[0m\u001b[0;34m(\u001b[0m\u001b[0;34m'The number is divisble by '\u001b[0m\u001b[0;34m+\u001b[0m \u001b[0mstr\u001b[0m\u001b[0;34m(\u001b[0m\u001b[0;36m7\u001b[0m\u001b[0;34m)\u001b[0m\u001b[0;34m)\u001b[0m\u001b[0;34m\u001b[0m\u001b[0;34m\u001b[0m\u001b[0m\n",
      "\u001b[0;31mValueError\u001b[0m: could not convert string to float: 'qw'"
     ]
    }
   ],
   "source": [
    "# Lazy programming: \n",
    "# Pros - fast, \n",
    "# Cons - hard to understand after a week, inflexible, error-prone\n",
    "\n",
    "x = float(input('Enter a whole number to check if it is divisble by '+ str(7) +' : '))\n",
    "if round(x/7,0) == x/7:\n",
    "  print('The number is divisble by '+ str(7))\n",
    "else: # Not divisible\n",
    "  print('The number is NOT divisble by '+ str(7))"
   ]
  },
  {
   "cell_type": "code",
   "execution_count": null,
   "metadata": {
    "colab": {
     "base_uri": "https://localhost:8080/"
    },
    "executionInfo": {
     "elapsed": 6633,
     "status": "ok",
     "timestamp": 1660050895399,
     "user": {
      "displayName": "Amit Sethi",
      "userId": "13009250827880785755"
     },
     "user_tz": -330
    },
    "id": "bShaB-zT39-_",
    "outputId": "57b6bec4-96e6-46ee-baff-2dcf4e3b17a3"
   },
   "outputs": [
    {
     "name": "stdout",
     "output_type": "stream",
     "text": [
      "Enter a whole number to check if it is divisble by 12 : 48.0\n",
      "The number is divisble by 12\n"
     ]
    }
   ],
   "source": [
    "# Notice good programming fundamentals\n",
    "#   Different types of inputs are assumed\n",
    "#   Errors are caught before they crash your program\n",
    "#   Variables are used instead of hardcoding\n",
    "#   Variable names are self-explanatory\n",
    "#   Copious use of comments\n",
    "# Notice how nested if's work. Also read about elif.\n",
    "\n",
    "div_by = 12 # Using a variable makes it easy to change the program for div by 12\n",
    "\n",
    "x = input('Enter a whole number to check if it is divisble by '+ str(div_by) +' : ')\n",
    "#User input\n",
    "\n",
    "try:\n",
    "  x = float(x) \n",
    "  # This line can fail if no number is entered.\n",
    "  # We catch that error using try-else\n",
    "\n",
    "  if round(x,0) == x: # Checking for whole number\n",
    "    if round(x/div_by,0) == x/div_by: #Checking for divisibility\n",
    "      print('The number is divisble by '+ str(div_by)) # Result\n",
    "    else: # Not divisible\n",
    "      print('The number is NOT divisble by '+ str(div_by)) # Result\n",
    "  else: # Did not enter a whole number\n",
    "    print('The number is NOT a whole number') # Result\n",
    "    \n",
    "except ValueError: # Did not enter a number\n",
    "  print('You did NOT enter a number') # Result"
   ]
  },
  {
   "cell_type": "markdown",
   "metadata": {
    "id": "fZ6qGvPk9PjR"
   },
   "source": [
    "# Functions"
   ]
  },
  {
   "cell_type": "code",
   "execution_count": null,
   "metadata": {
    "colab": {
     "base_uri": "https://localhost:8080/"
    },
    "executionInfo": {
     "elapsed": 17936,
     "status": "ok",
     "timestamp": 1610970301046,
     "user": {
      "displayName": "Amit Sethi",
      "photoUrl": "https://lh3.googleusercontent.com/a-/AOh14GhcYf2yeB1Khss7ZPO45INghd8j5991p1jnWgs8pQ=s64",
      "userId": "13009250827880785755"
     },
     "user_tz": -330
    },
    "id": "tA3gisGm9RvD",
    "outputId": "26155eef-9eb6-4e8c-9518-e3c1ad53406b"
   },
   "outputs": [
    {
     "name": "stdout",
     "output_type": "stream",
     "text": [
      "Enter a whole number to check if it is divisble by 7 : 6\n",
      "6 is NOT divisble by 7\n"
     ]
    }
   ],
   "source": [
    "# You can outsource some repetitive jobs from the main program to functions\n",
    "# It also makes the program more readable\n",
    "\n",
    "\n",
    "# FUNCTION\n",
    "def check_divisibility(numerator, denominator):\n",
    "  try:\n",
    "    numerator = float(numerator) \n",
    "    if round(numerator,0) == numerator: # Checking for whole number\n",
    "      if round(numerator/denominator,0) == numerator/denominator: #Checking for divisibility\n",
    "        print(str(int(numerator)) + ' is divisble by '+ str(denominator)) # Result\n",
    "        return True\n",
    "      else: # Not divisible\n",
    "        print(str(int(numerator)) + ' is NOT divisble by '+ str(denominator)) # Result\n",
    "        return False\n",
    "    else: # Did not enter a whole number\n",
    "      print(str(numerator) + ' number is NOT a whole number') #M Result\n",
    "      return False\n",
    "  except ValueError:\n",
    "    print('You did NOT enter a number') # Result\n",
    "    return False\n",
    "\n",
    "\n",
    "\n",
    "\n",
    "# MAIN PROGRAM\n",
    "\n",
    "div_by = 7 # Using a variable makes it easy to change the program for div by 12\n",
    "\n",
    "x = input('Enter a whole number to check if it is divisble by '+ str(div_by) +' : ')\n",
    "_ = check_divisibility(x,div_by) \n",
    "# Adding an underscore in the beginning is like adding a dummy variable\n",
    "# Without that returned value (in this case, True or False) will be printed"
   ]
  },
  {
   "cell_type": "markdown",
   "metadata": {
    "id": "5qTTNs21Aifj"
   },
   "source": [
    "# Numpy arrays"
   ]
  },
  {
   "cell_type": "code",
   "execution_count": null,
   "metadata": {
    "colab": {
     "base_uri": "https://localhost:8080/"
    },
    "executionInfo": {
     "elapsed": 17928,
     "status": "ok",
     "timestamp": 1610970301047,
     "user": {
      "displayName": "Amit Sethi",
      "photoUrl": "https://lh3.googleusercontent.com/a-/AOh14GhcYf2yeB1Khss7ZPO45INghd8j5991p1jnWgs8pQ=s64",
      "userId": "13009250827880785755"
     },
     "user_tz": -330
    },
    "id": "4kPah6H8Alpd",
    "outputId": "e561d8ef-de85-4cff-e897-b49759147897"
   },
   "outputs": [
    {
     "name": "stdout",
     "output_type": "stream",
     "text": [
      "[[0.8293671  0.6617965 ]\n",
      " [0.91009785 0.99309904]\n",
      " [0.21181765 0.84958217]]\n"
     ]
    }
   ],
   "source": [
    "import numpy as np # convention is to import numpy as np\n",
    "\n",
    "x = np.random.random([3,2]) # generating a random array with 3 rows, 2 cols\n",
    "print(x)"
   ]
  },
  {
   "cell_type": "code",
   "execution_count": null,
   "metadata": {
    "colab": {
     "base_uri": "https://localhost:8080/"
    },
    "executionInfo": {
     "elapsed": 17923,
     "status": "ok",
     "timestamp": 1610970301048,
     "user": {
      "displayName": "Amit Sethi",
      "photoUrl": "https://lh3.googleusercontent.com/a-/AOh14GhcYf2yeB1Khss7ZPO45INghd8j5991p1jnWgs8pQ=s64",
      "userId": "13009250827880785755"
     },
     "user_tz": -330
    },
    "id": "QZ34ANq3A70G",
    "outputId": "1bf18fe1-d6e4-4232-e630-597da616c16f"
   },
   "outputs": [
    {
     "data": {
      "text/plain": [
       "array([[0.8293671 , 0.91009785, 0.21181765],\n",
       "       [0.6617965 , 0.99309904, 0.84958217]])"
      ]
     },
     "execution_count": 8,
     "metadata": {
      "tags": []
     },
     "output_type": "execute_result"
    }
   ],
   "source": [
    "np.transpose(x) # Transpose"
   ]
  },
  {
   "cell_type": "code",
   "execution_count": null,
   "metadata": {
    "colab": {
     "base_uri": "https://localhost:8080/"
    },
    "executionInfo": {
     "elapsed": 17912,
     "status": "ok",
     "timestamp": 1610970301048,
     "user": {
      "displayName": "Amit Sethi",
      "photoUrl": "https://lh3.googleusercontent.com/a-/AOh14GhcYf2yeB1Khss7ZPO45INghd8j5991p1jnWgs8pQ=s64",
      "userId": "13009250827880785755"
     },
     "user_tz": -330
    },
    "id": "kb0JVmCsBFcr",
    "outputId": "966cb2ea-ba5a-4738-c945-bfeda8d80404"
   },
   "outputs": [
    {
     "data": {
      "text/plain": [
       "array([[1.56099461, 1.63264604],\n",
       "       [1.63264604, 2.14601018]])"
      ]
     },
     "execution_count": 9,
     "metadata": {
      "tags": []
     },
     "output_type": "execute_result"
    }
   ],
   "source": [
    "x.T.dot(x) # .T is also transpose, .dot is matrix multiplication"
   ]
  },
  {
   "cell_type": "code",
   "execution_count": null,
   "metadata": {
    "colab": {
     "base_uri": "https://localhost:8080/"
    },
    "executionInfo": {
     "elapsed": 17904,
     "status": "ok",
     "timestamp": 1610970301049,
     "user": {
      "displayName": "Amit Sethi",
      "photoUrl": "https://lh3.googleusercontent.com/a-/AOh14GhcYf2yeB1Khss7ZPO45INghd8j5991p1jnWgs8pQ=s64",
      "userId": "13009250827880785755"
     },
     "user_tz": -330
    },
    "id": "95bmOZKmBXrF",
    "outputId": "568a942f-790e-4307-efd8-00f29e785414"
   },
   "outputs": [
    {
     "data": {
      "text/plain": [
       "array([[0.68784979, 0.43797461],\n",
       "       [0.8282781 , 0.98624571],\n",
       "       [0.04486672, 0.72178987]])"
      ]
     },
     "execution_count": 10,
     "metadata": {
      "tags": []
     },
     "output_type": "execute_result"
    }
   ],
   "source": [
    "x * x # Asterisk is point-wise multiplication"
   ]
  },
  {
   "cell_type": "code",
   "execution_count": null,
   "metadata": {
    "colab": {
     "base_uri": "https://localhost:8080/"
    },
    "executionInfo": {
     "elapsed": 17897,
     "status": "ok",
     "timestamp": 1610970301050,
     "user": {
      "displayName": "Amit Sethi",
      "photoUrl": "https://lh3.googleusercontent.com/a-/AOh14GhcYf2yeB1Khss7ZPO45INghd8j5991p1jnWgs8pQ=s64",
      "userId": "13009250827880785755"
     },
     "user_tz": -330
    },
    "id": "TkEQqF_GB5DT",
    "outputId": "a9e7b0da-545d-4a66-bbb4-a81b17ef1f51"
   },
   "outputs": [
    {
     "data": {
      "text/plain": [
       "array([[1.00000000e+00, 1.90249264e-17],\n",
       "       [1.37724092e-16, 1.00000000e+00]])"
      ]
     },
     "execution_count": 11,
     "metadata": {
      "tags": []
     },
     "output_type": "execute_result"
    }
   ],
   "source": [
    "np.linalg.pinv(x).dot(x) \n",
    "# linalg is a linear algebra module, pinv is pseudo inverse function in it"
   ]
  },
  {
   "cell_type": "markdown",
   "metadata": {
    "id": "8Dc6k_MjCqpb"
   },
   "source": [
    "# While loop"
   ]
  },
  {
   "cell_type": "code",
   "execution_count": null,
   "metadata": {
    "colab": {
     "base_uri": "https://localhost:8080/"
    },
    "executionInfo": {
     "elapsed": 31801,
     "status": "ok",
     "timestamp": 1643374401067,
     "user": {
      "displayName": "Amit Sethi",
      "photoUrl": "https://lh3.googleusercontent.com/a-/AOh14GjpqYpqSbCBu5TfPV3mySUdsno-HbOSZqSdku9DbA=s64",
      "userId": "13009250827880785755"
     },
     "user_tz": -330
    },
    "id": "6cwpx__zCsH1",
    "outputId": "fcc00571-2eb3-411f-a9f9-cfee8395932d"
   },
   "outputs": [
    {
     "name": "stdout",
     "output_type": "stream",
     "text": [
      "This is a number guessing game. Enter the number between 1 and 10: 3\n",
      "Try again: 5\n",
      "Try again: 7\n",
      "Try again: 9\n",
      "Try again: 1\n",
      "Try again: 2\n",
      "Try again: 4\n",
      "Try again: 7\n",
      "Try again: 8\n",
      "Try again: 3\n",
      "Try again: 10\n",
      "You got it!\n"
     ]
    }
   ],
   "source": [
    "import random\n",
    "\n",
    "hidden = round(random.randint(1,11))\n",
    "\n",
    "try: \n",
    "  guess = int(input('This is a number guessing game. Enter the number between 1 and 10: '))\n",
    "  while guess != hidden:\n",
    "    try:\n",
    "      guess = int(input('Try again: '))\n",
    "    except: \n",
    "      print('Bad input. Whole number expected.')\n",
    "  print('You got it!')\n",
    "except:\n",
    "  print('Bad input. Whole number expected.')"
   ]
  },
  {
   "cell_type": "markdown",
   "metadata": {
    "id": "Zf7LlF3PCbV-"
   },
   "source": [
    "# For loop and vectorization"
   ]
  },
  {
   "cell_type": "code",
   "execution_count": null,
   "metadata": {
    "colab": {
     "base_uri": "https://localhost:8080/"
    },
    "executionInfo": {
     "elapsed": 1109,
     "status": "ok",
     "timestamp": 1660051439084,
     "user": {
      "displayName": "Amit Sethi",
      "userId": "13009250827880785755"
     },
     "user_tz": -330
    },
    "id": "_2-zbciwEo-X",
    "outputId": "326b1809-83a5-4372-8fc8-8730a88e25b2"
   },
   "outputs": [
    {
     "name": "stdout",
     "output_type": "stream",
     "text": [
      "Found 14613 elements divisible by 7 in 583927 microseconds\n"
     ]
    }
   ],
   "source": [
    "# Count number of elements divisibly by 7 using nested for loops\n",
    "\n",
    "import numpy as np\n",
    "import time\n",
    "\n",
    "x = np.round(100*np.random.rand(1000,100))\n",
    "\n",
    "\n",
    "tic = time.perf_counter()\n",
    "\n",
    "count = 0\n",
    "\n",
    "for i in range(np.shape(x)[0]):\n",
    "  for j in range(np.shape(x)[1]):\n",
    "    if np.round(x[i,j]/7.0)*7.0 == x[i,j]:\n",
    "      count += 1\n",
    "\n",
    "toc = time.perf_counter()\n",
    "\n",
    "print(\"Found %d elements divisible by 7 in %d microseconds\"%(count, 1000000*(toc-tic)))"
   ]
  },
  {
   "cell_type": "code",
   "execution_count": null,
   "metadata": {
    "colab": {
     "base_uri": "https://localhost:8080/"
    },
    "executionInfo": {
     "elapsed": 43763,
     "status": "ok",
     "timestamp": 1610970326932,
     "user": {
      "displayName": "Amit Sethi",
      "photoUrl": "https://lh3.googleusercontent.com/a-/AOh14GhcYf2yeB1Khss7ZPO45INghd8j5991p1jnWgs8pQ=s64",
      "userId": "13009250827880785755"
     },
     "user_tz": -330
    },
    "id": "ibO3RzX_FbHm",
    "outputId": "6324d984-395f-483d-9f1b-d4bbe22362d7"
   },
   "outputs": [
    {
     "name": "stdout",
     "output_type": "stream",
     "text": [
      "Found 14495 elements divisible by 7 in 517565 microseconds\n"
     ]
    }
   ],
   "source": [
    "# Pre-assiging nRows and nCols reduces time substantially\n",
    "\n",
    "import numpy as np\n",
    "import time\n",
    "\n",
    "x = np.round(100*np.random.rand(1000,100))\n",
    "\n",
    "nRows = np.shape(x)[0]\n",
    "nCols = np.shape(x)[1]\n",
    "\n",
    "tic = time.perf_counter()\n",
    "\n",
    "count = 0\n",
    "\n",
    "for i in range(nRows):\n",
    "  for j in range(nCols):\n",
    "    if np.round(x[i,j]/7.0)*7.0 == x[i,j]:\n",
    "      count += 1\n",
    "\n",
    "toc = time.perf_counter()\n",
    "\n",
    "print(\"Found %d elements divisible by 7 in %d microseconds\"%(count, 1000000*(toc-tic)))"
   ]
  },
  {
   "cell_type": "code",
   "execution_count": null,
   "metadata": {
    "colab": {
     "base_uri": "https://localhost:8080/"
    },
    "executionInfo": {
     "elapsed": 390,
     "status": "ok",
     "timestamp": 1660051526880,
     "user": {
      "displayName": "Amit Sethi",
      "userId": "13009250827880785755"
     },
     "user_tz": -330
    },
    "id": "kUJx_IM2Hc10",
    "outputId": "cc7e6133-059b-4505-f992-b60034db7ead"
   },
   "outputs": [
    {
     "name": "stdout",
     "output_type": "stream",
     "text": [
      "Found 14441 elements divisible by 7 in 5225 microseconds\n"
     ]
    }
   ],
   "source": [
    "# Vectorizing to avoid for loops is the best\n",
    "\n",
    "import numpy as np\n",
    "import time\n",
    "\n",
    "x = np.round(100*np.random.rand(1000,100))\n",
    "\n",
    "\n",
    "tic = time.perf_counter()\n",
    "\n",
    "count = np.sum(np.round(x/7.0)*7.0 == x, axis = None)\n",
    "\n",
    "toc = time.perf_counter()\n",
    "\n",
    "print(\"Found %d elements divisible by 7 in %d microseconds\"%(count, 1000000*(toc-tic)))"
   ]
  },
  {
   "cell_type": "markdown",
   "metadata": {
    "id": "dUcLaG3IIEq3"
   },
   "source": [
    "# Time complexity"
   ]
  },
  {
   "cell_type": "code",
   "execution_count": null,
   "metadata": {
    "colab": {
     "base_uri": "https://localhost:8080/"
    },
    "executionInfo": {
     "elapsed": 43755,
     "status": "ok",
     "timestamp": 1610970326933,
     "user": {
      "displayName": "Amit Sethi",
      "photoUrl": "https://lh3.googleusercontent.com/a-/AOh14GhcYf2yeB1Khss7ZPO45INghd8j5991p1jnWgs8pQ=s64",
      "userId": "13009250827880785755"
     },
     "user_tz": -330
    },
    "id": "LYavftZ3LNYe",
    "outputId": "7c474325-0068-48c8-c54b-094345502701"
   },
   "outputs": [
    {
     "name": "stdout",
     "output_type": "stream",
     "text": [
      "Found 0.191713 at position 19100 in 5196 microseconds\n"
     ]
    }
   ],
   "source": [
    "# Find a number in a sorted array: O(n) using brute force, where n is array size\n",
    "# Pronounced \"Order n\".\n",
    "\n",
    "import numpy as np\n",
    "import time\n",
    "\n",
    "# Make a rando sorted array of size n\n",
    "n = 100000\n",
    "x = np.random.rand(n)\n",
    "x = np.sort(x)\n",
    "\n",
    "# Choose an element in the array that we will try to find\n",
    "y = x[np.random.randint(0,n)]\n",
    "\n",
    "tic = time.perf_counter()\n",
    "\n",
    "for i in range(n):\n",
    "  if x[i] == y:\n",
    "    break\n",
    "\n",
    "toc = time.perf_counter()\n",
    "\n",
    "print(\"Found %f at position %d in %d microseconds\"%(y, i, 1000000*(toc-tic)))"
   ]
  },
  {
   "cell_type": "code",
   "execution_count": null,
   "metadata": {
    "colab": {
     "base_uri": "https://localhost:8080/"
    },
    "executionInfo": {
     "elapsed": 43751,
     "status": "ok",
     "timestamp": 1610970326936,
     "user": {
      "displayName": "Amit Sethi",
      "photoUrl": "https://lh3.googleusercontent.com/a-/AOh14GhcYf2yeB1Khss7ZPO45INghd8j5991p1jnWgs8pQ=s64",
      "userId": "13009250827880785755"
     },
     "user_tz": -330
    },
    "id": "NpXVw6bLP7TV",
    "outputId": "6f5100b4-7b8e-49ec-c3de-f05a8849a7e3"
   },
   "outputs": [
    {
     "name": "stdout",
     "output_type": "stream",
     "text": [
      "Found 0.264301 at position 264512 in 195 microseconds\n"
     ]
    }
   ],
   "source": [
    "# Binary search has O(log(n)) complexity, where n is array size:\n",
    "# Pronounced \"Order log n\".\n",
    "\n",
    "import numpy as np\n",
    "import time\n",
    "\n",
    "# Make a rando sorted array of size n\n",
    "n = 1000000\n",
    "x = np.random.rand(n)\n",
    "x = np.sort(x)\n",
    "\n",
    "# Choose an element in the array that we will try to find\n",
    "y = x[np.random.randint(0,n)]\n",
    "\n",
    "tic = time.perf_counter()\n",
    "\n",
    "lower, upper = 0, n\n",
    "\n",
    "i = round((lower+upper)/2)\n",
    "\n",
    "while x[i] != y:\n",
    "  if x[i]>y:\n",
    "    upper = i\n",
    "    i = round((lower+i)/2)\n",
    "  else:\n",
    "    lower = i\n",
    "    i = round((i+upper)/2)\n",
    " \n",
    "toc = time.perf_counter()\n",
    "\n",
    "print(\"Found %f at position %d in %d microseconds\"%(y, i, 1000000*(toc-tic)))"
   ]
  }
 ],
 "metadata": {
  "colab": {
   "authorship_tag": "ABX9TyPvCGMYSggLQAoj4YyvC8ot",
   "collapsed_sections": [],
   "name": "Intro to CS and Python for ML.ipynb",
   "provenance": []
  },
  "kernelspec": {
   "display_name": "Python 3 (ipykernel)",
   "language": "python",
   "name": "python3"
  },
  "language_info": {
   "codemirror_mode": {
    "name": "ipython",
    "version": 3
   },
   "file_extension": ".py",
   "mimetype": "text/x-python",
   "name": "python",
   "nbconvert_exporter": "python",
   "pygments_lexer": "ipython3",
   "version": "3.8.8"
  }
 },
 "nbformat": 4,
 "nbformat_minor": 1
}
